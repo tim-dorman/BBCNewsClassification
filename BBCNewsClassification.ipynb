{
 "cells": [
  {
   "cell_type": "markdown",
   "metadata": {},
   "source": [
    "# Kaggle Project: BBC News Classificatation"
   ]
  },
  {
   "cell_type": "markdown",
   "metadata": {},
   "source": [
    "This project is an attempt at the following competition on Kaggle to classify news articles using raw text: https://www.kaggle.com/competitions/learn-ai-bbc/overview"
   ]
  },
  {
   "cell_type": "markdown",
   "metadata": {},
   "source": [
    "Importing all necesary libraries"
   ]
  },
  {
   "cell_type": "code",
   "execution_count": 1,
   "metadata": {},
   "outputs": [],
   "source": [
    "import math\n",
    "import numpy as np\n",
    "import pandas as pd\n",
    "import matplotlib.pylab as plt\n",
    "import seaborn as sns\n",
    "import re\n",
    "import unicodedata\n",
    "from sklearn.feature_extraction.text import TfidfVectorizer\n",
    "from sklearn.preprocessing import normalize\n",
    "from sklearn.decomposition import NMF\n",
    "from sklearn.metrics import accuracy_score, confusion_matrix, classification_report\n",
    "from sklearn.preprocessing import LabelEncoder\n",
    "from sklearn.model_selection import train_test_split, StratifiedShuffleSplit\n",
    "from sklearn.linear_model import LogisticRegression"
   ]
  },
  {
   "cell_type": "markdown",
   "metadata": {},
   "source": [
    "# Step 1: EDA and Raw Text Processing via TF-IDF"
   ]
  },
  {
   "cell_type": "markdown",
   "metadata": {},
   "source": [
    "## Data Loading and Initial Inspection"
   ]
  },
  {
   "cell_type": "markdown",
   "metadata": {},
   "source": [
    "First Loading in the test and train data that I took from Kaggle and printing the first few rows."
   ]
  },
  {
   "cell_type": "code",
   "execution_count": 2,
   "metadata": {},
   "outputs": [],
   "source": [
    "train_df = pd.read_csv(\"data2/BBC News Train.csv\")\n",
    "test_df = pd.read_csv(\"data2/BBC News Test.csv\")\n",
    "\n",
    "train_df.columns = train_df.columns.str.lower()\n",
    "test_df.columns = test_df.columns.str.lower()"
   ]
  },
  {
   "cell_type": "code",
   "execution_count": 3,
   "metadata": {},
   "outputs": [
    {
     "data": {
      "text/html": [
       "<div>\n",
       "<style scoped>\n",
       "    .dataframe tbody tr th:only-of-type {\n",
       "        vertical-align: middle;\n",
       "    }\n",
       "\n",
       "    .dataframe tbody tr th {\n",
       "        vertical-align: top;\n",
       "    }\n",
       "\n",
       "    .dataframe thead th {\n",
       "        text-align: right;\n",
       "    }\n",
       "</style>\n",
       "<table border=\"1\" class=\"dataframe\">\n",
       "  <thead>\n",
       "    <tr style=\"text-align: right;\">\n",
       "      <th></th>\n",
       "      <th>articleid</th>\n",
       "      <th>text</th>\n",
       "      <th>category</th>\n",
       "    </tr>\n",
       "  </thead>\n",
       "  <tbody>\n",
       "    <tr>\n",
       "      <th>0</th>\n",
       "      <td>1833</td>\n",
       "      <td>worldcom ex-boss launches defence lawyers defe...</td>\n",
       "      <td>business</td>\n",
       "    </tr>\n",
       "    <tr>\n",
       "      <th>1</th>\n",
       "      <td>154</td>\n",
       "      <td>german business confidence slides german busin...</td>\n",
       "      <td>business</td>\n",
       "    </tr>\n",
       "    <tr>\n",
       "      <th>2</th>\n",
       "      <td>1101</td>\n",
       "      <td>bbc poll indicates economic gloom citizens in ...</td>\n",
       "      <td>business</td>\n",
       "    </tr>\n",
       "    <tr>\n",
       "      <th>3</th>\n",
       "      <td>1976</td>\n",
       "      <td>lifestyle  governs mobile choice  faster  bett...</td>\n",
       "      <td>tech</td>\n",
       "    </tr>\n",
       "    <tr>\n",
       "      <th>4</th>\n",
       "      <td>917</td>\n",
       "      <td>enron bosses in $168m payout eighteen former e...</td>\n",
       "      <td>business</td>\n",
       "    </tr>\n",
       "  </tbody>\n",
       "</table>\n",
       "</div>"
      ],
      "text/plain": [
       "   articleid                                               text  category\n",
       "0       1833  worldcom ex-boss launches defence lawyers defe...  business\n",
       "1        154  german business confidence slides german busin...  business\n",
       "2       1101  bbc poll indicates economic gloom citizens in ...  business\n",
       "3       1976  lifestyle  governs mobile choice  faster  bett...      tech\n",
       "4        917  enron bosses in $168m payout eighteen former e...  business"
      ]
     },
     "execution_count": 3,
     "metadata": {},
     "output_type": "execute_result"
    }
   ],
   "source": [
    "train_df.head()"
   ]
  },
  {
   "cell_type": "code",
   "execution_count": 4,
   "metadata": {},
   "outputs": [
    {
     "data": {
      "text/html": [
       "<div>\n",
       "<style scoped>\n",
       "    .dataframe tbody tr th:only-of-type {\n",
       "        vertical-align: middle;\n",
       "    }\n",
       "\n",
       "    .dataframe tbody tr th {\n",
       "        vertical-align: top;\n",
       "    }\n",
       "\n",
       "    .dataframe thead th {\n",
       "        text-align: right;\n",
       "    }\n",
       "</style>\n",
       "<table border=\"1\" class=\"dataframe\">\n",
       "  <thead>\n",
       "    <tr style=\"text-align: right;\">\n",
       "      <th></th>\n",
       "      <th>articleid</th>\n",
       "      <th>text</th>\n",
       "    </tr>\n",
       "  </thead>\n",
       "  <tbody>\n",
       "    <tr>\n",
       "      <th>0</th>\n",
       "      <td>1018</td>\n",
       "      <td>qpr keeper day heads for preston queens park r...</td>\n",
       "    </tr>\n",
       "    <tr>\n",
       "      <th>1</th>\n",
       "      <td>1319</td>\n",
       "      <td>software watching while you work software that...</td>\n",
       "    </tr>\n",
       "    <tr>\n",
       "      <th>2</th>\n",
       "      <td>1138</td>\n",
       "      <td>d arcy injury adds to ireland woe gordon d arc...</td>\n",
       "    </tr>\n",
       "    <tr>\n",
       "      <th>3</th>\n",
       "      <td>459</td>\n",
       "      <td>india s reliance family feud heats up the ongo...</td>\n",
       "    </tr>\n",
       "    <tr>\n",
       "      <th>4</th>\n",
       "      <td>1020</td>\n",
       "      <td>boro suffer morrison injury blow middlesbrough...</td>\n",
       "    </tr>\n",
       "  </tbody>\n",
       "</table>\n",
       "</div>"
      ],
      "text/plain": [
       "   articleid                                               text\n",
       "0       1018  qpr keeper day heads for preston queens park r...\n",
       "1       1319  software watching while you work software that...\n",
       "2       1138  d arcy injury adds to ireland woe gordon d arc...\n",
       "3        459  india s reliance family feud heats up the ongo...\n",
       "4       1020  boro suffer morrison injury blow middlesbrough..."
      ]
     },
     "execution_count": 4,
     "metadata": {},
     "output_type": "execute_result"
    }
   ],
   "source": [
    "test_df.head()"
   ]
  },
  {
   "cell_type": "markdown",
   "metadata": {},
   "source": [
    "Now, just doing a quick inspection of the data to see the shape, size, and seing if we have any null or N/A values"
   ]
  },
  {
   "cell_type": "code",
   "execution_count": 5,
   "metadata": {},
   "outputs": [
    {
     "name": "stdout",
     "output_type": "stream",
     "text": [
      "(1490, 3) (735, 2)\n"
     ]
    }
   ],
   "source": [
    "print(train_df.shape, test_df.shape)"
   ]
  },
  {
   "cell_type": "code",
   "execution_count": 6,
   "metadata": {},
   "outputs": [
    {
     "name": "stdout",
     "output_type": "stream",
     "text": [
      "missing train set values: articleid    0\n",
      "text         0\n",
      "category     0\n",
      "dtype: int64\n",
      "missing test set values: articleid    0\n",
      "text         0\n",
      "dtype: int64\n",
      "empty strings in train set: 0\n",
      "empty strings in text set: 0\n"
     ]
    }
   ],
   "source": [
    "print('missing train set values:', train_df.isnull().sum())\n",
    "print('missing test set values:', test_df.isnull().sum())\n",
    "\n",
    "print('empty strings in train set:', (train_df['text'].str.strip() == '').sum())\n",
    "print('empty strings in text set:', (test_df['text'].str.strip() == '').sum())"
   ]
  },
  {
   "cell_type": "markdown",
   "metadata": {},
   "source": [
    "A very simple visualtization to show the article count by category, looks relatively evenly distributed"
   ]
  },
  {
   "cell_type": "code",
   "execution_count": 7,
   "metadata": {},
   "outputs": [
    {
     "data": {
      "image/png": "[encoded data removed]",
      "text/plain": [
       "<Figure size 432x288 with 1 Axes>"
      ]
     },
     "metadata": {
      "needs_background": "light"
     },
     "output_type": "display_data"
    }
   ],
   "source": [
    "plt.figure()\n",
    "sns.countplot(y = 'category', data = train_df, order = train_df['category'].value_counts().index)\n",
    "plt.title('Count of Articles by Category')\n",
    "plt.show()"
   ]
  },
  {
   "cell_type": "markdown",
   "metadata": {},
   "source": [
    "Doing some summary statistics to get a feel for the word count in the articles, understand the min/max, avg, etc"
   ]
  },
  {
   "cell_type": "code",
   "execution_count": 8,
   "metadata": {},
   "outputs": [
    {
     "name": "stdout",
     "output_type": "stream",
     "text": [
      "count    1490.000000\n",
      "mean      385.012752\n",
      "std       210.898616\n",
      "min        90.000000\n",
      "25%       253.000000\n",
      "50%       337.000000\n",
      "75%       468.750000\n",
      "max      3345.000000\n",
      "Name: text, dtype: float64\n"
     ]
    }
   ],
   "source": [
    "print(train_df['text'].apply(lambda x: len(str(x).split())).describe())"
   ]
  },
  {
   "cell_type": "markdown",
   "metadata": {},
   "source": [
    "## Pre-Processing"
   ]
  },
  {
   "cell_type": "markdown",
   "metadata": {},
   "source": [
    "Now getting into the work of pre-proccessing the data before handing it to TF-IDF. This lowercases all characters, takes out any website/URL links, takes out emails, ensures we are looking at words only."
   ]
  },
  {
   "cell_type": "code",
   "execution_count": 9,
   "metadata": {},
   "outputs": [],
   "source": [
    "def normalizer(s):\n",
    "    return unicodedata.normalize('NFKD', s).encode('ascii', 'ignore').decode('utf-8', 'ignore')\n",
    "\n",
    "def preprocess(text):\n",
    "    if not isinstance(text, str):\n",
    "        text = str(text)\n",
    "    text = normalizer(text) #calling normalizer\n",
    "    text = text.lower() #lowercasing everything\n",
    "    text = re.compile(r'https?://\\S+|www\\.\\S+').sub(' ', text) #no website references\n",
    "    text = re.compile(r'\\b[\\w\\.-]+@[\\w\\.-]+\\.\\w+\\b').sub(' ', text) #no emails\n",
    "    text = re.compile(r'[^a-zA-Z\\s]').sub(' ', text) #words only\n",
    "    text = re.compile(r'\\s+').sub(' ', text).strip() #no long spaces\n",
    "\n",
    "    return text\n",
    "\n",
    "train_df['proc_text'] = train_df['text'].apply(preprocess)\n",
    "test_df['proc_text'] = test_df['text'].apply(preprocess)\n"
   ]
  },
  {
   "cell_type": "markdown",
   "metadata": {},
   "source": [
    "Checking to see the pre-processing did its job, which it look like it did. As you can see with the text vs proc_tex column, one can see that all dashes are removed, numbers are removed, as well as special characters. Now we have processed text, that is text-only (just words). "
   ]
  },
  {
   "cell_type": "code",
   "execution_count": 10,
   "metadata": {},
   "outputs": [
    {
     "data": {
      "text/html": [
       "<div>\n",
       "<style scoped>\n",
       "    .dataframe tbody tr th:only-of-type {\n",
       "        vertical-align: middle;\n",
       "    }\n",
       "\n",
       "    .dataframe tbody tr th {\n",
       "        vertical-align: top;\n",
       "    }\n",
       "\n",
       "    .dataframe thead th {\n",
       "        text-align: right;\n",
       "    }\n",
       "</style>\n",
       "<table border=\"1\" class=\"dataframe\">\n",
       "  <thead>\n",
       "    <tr style=\"text-align: right;\">\n",
       "      <th></th>\n",
       "      <th>articleid</th>\n",
       "      <th>text</th>\n",
       "      <th>category</th>\n",
       "      <th>proc_text</th>\n",
       "    </tr>\n",
       "  </thead>\n",
       "  <tbody>\n",
       "    <tr>\n",
       "      <th>0</th>\n",
       "      <td>1833</td>\n",
       "      <td>worldcom ex-boss launches defence lawyers defe...</td>\n",
       "      <td>business</td>\n",
       "      <td>worldcom ex boss launches defence lawyers defe...</td>\n",
       "    </tr>\n",
       "    <tr>\n",
       "      <th>1</th>\n",
       "      <td>154</td>\n",
       "      <td>german business confidence slides german busin...</td>\n",
       "      <td>business</td>\n",
       "      <td>german business confidence slides german busin...</td>\n",
       "    </tr>\n",
       "    <tr>\n",
       "      <th>2</th>\n",
       "      <td>1101</td>\n",
       "      <td>bbc poll indicates economic gloom citizens in ...</td>\n",
       "      <td>business</td>\n",
       "      <td>bbc poll indicates economic gloom citizens in ...</td>\n",
       "    </tr>\n",
       "    <tr>\n",
       "      <th>3</th>\n",
       "      <td>1976</td>\n",
       "      <td>lifestyle  governs mobile choice  faster  bett...</td>\n",
       "      <td>tech</td>\n",
       "      <td>lifestyle governs mobile choice faster better ...</td>\n",
       "    </tr>\n",
       "    <tr>\n",
       "      <th>4</th>\n",
       "      <td>917</td>\n",
       "      <td>enron bosses in $168m payout eighteen former e...</td>\n",
       "      <td>business</td>\n",
       "      <td>enron bosses in m payout eighteen former enron...</td>\n",
       "    </tr>\n",
       "  </tbody>\n",
       "</table>\n",
       "</div>"
      ],
      "text/plain": [
       "   articleid                                               text  category  \\\n",
       "0       1833  worldcom ex-boss launches defence lawyers defe...  business   \n",
       "1        154  german business confidence slides german busin...  business   \n",
       "2       1101  bbc poll indicates economic gloom citizens in ...  business   \n",
       "3       1976  lifestyle  governs mobile choice  faster  bett...      tech   \n",
       "4        917  enron bosses in $168m payout eighteen former e...  business   \n",
       "\n",
       "                                           proc_text  \n",
       "0  worldcom ex boss launches defence lawyers defe...  \n",
       "1  german business confidence slides german busin...  \n",
       "2  bbc poll indicates economic gloom citizens in ...  \n",
       "3  lifestyle governs mobile choice faster better ...  \n",
       "4  enron bosses in m payout eighteen former enron...  "
      ]
     },
     "execution_count": 10,
     "metadata": {},
     "output_type": "execute_result"
    }
   ],
   "source": [
    "train_df.head()"
   ]
  },
  {
   "cell_type": "markdown",
   "metadata": {},
   "source": [
    "## TF-IDF"
   ]
  },
  {
   "cell_type": "markdown",
   "metadata": {},
   "source": [
    "I converted all the raw text into matrix form using TF-IDF (Term Frequency- Inverse Document Frecuency). This method essentially takes the text and converts it into a vector of \"word weights\". It uses the amount of times a word appears (term frequency) to apply weight to words, and also suppresses the weighting of words that appear often across all text (Inverse document frequency). For example, words such as \"The\", \"A\", etc.\n",
    "\n",
    "This gives us a weighted matrix where rows correspond to a document (or article in this case) and and columns represent a term The cell values then show the actual weight in a numerical value, so that we can use this for NMF. \n",
    "   "
   ]
  },
  {
   "cell_type": "markdown",
   "metadata": {},
   "source": [
    "Now, passing the pre-processed data to my TF-IDF vectorizer, then printing a sample of the features and seeing the size of the data"
   ]
  },
  {
   "cell_type": "code",
   "execution_count": 11,
   "metadata": {},
   "outputs": [
    {
     "name": "stdout",
     "output_type": "stream",
     "text": [
      "(1490, 6000) (735, 6000)\n"
     ]
    }
   ],
   "source": [
    "tf_idf = TfidfVectorizer(max_features = 6000, ngram_range = (1,2), stop_words = 'english', min_df = 2)\n",
    "\n",
    "train_tf_idf = tf_idf.fit_transform(train_df['proc_text'])\n",
    "\n",
    "test_tf_idf = tf_idf.transform(test_df['proc_text'])\n",
    "\n",
    "print(train_tf_idf.shape, test_tf_idf.shape)\n",
    "\n",
    "y = train_df['category'].astype('category')\n",
    "class_name = list(y.cat.categories)\n",
    "y_coded = y.cat.codes"
   ]
  },
  {
   "cell_type": "code",
   "execution_count": 12,
   "metadata": {},
   "outputs": [
    {
     "name": "stdout",
     "output_type": "stream",
     "text": [
      "Feature Count 6000\n",
      "sample ['abbas', 'abc', 'ability', 'able', 'abroad', 'absence', 'absolute', 'absolutely', 'abuse', 'abused', 'ac', 'ac milan', 'academy', 'academy awards', 'accept', 'acceptable', 'accepted', 'accepting', 'access', 'accessible']\n"
     ]
    }
   ],
   "source": [
    "feature_names = tf_idf.get_feature_names()\n",
    "print('Feature Count', len(feature_names))\n",
    "print('sample', feature_names[:20])"
   ]
  },
  {
   "cell_type": "markdown",
   "metadata": {},
   "source": [
    "## EDA "
   ]
  },
  {
   "cell_type": "markdown",
   "metadata": {},
   "source": [
    "Before getting onto the modelling I would like to do some EDA. This first visual is simply showing the top mean 25 terms in the entire dataset"
   ]
  },
  {
   "cell_type": "code",
   "execution_count": 13,
   "metadata": {},
   "outputs": [
    {
     "data": {
      "image/png": "[encoded data removed]",
      "text/plain": [
       "<Figure size 432x288 with 1 Axes>"
      ]
     },
     "metadata": {
      "needs_background": "light"
     },
     "output_type": "display_data"
    }
   ],
   "source": [
    "mean_ = np.asarray(train_tf_idf.mean(axis = 0)).ravel()\n",
    "df_vis = pd.DataFrame({'term': feature_names, 'mean': mean_})\n",
    "top25 = df_vis.sort_values(by = 'mean', ascending = False).head(25)\n",
    "\n",
    "plt.figure()\n",
    "\n",
    "sns.barplot(y = 'term', x = 'mean', data = top25, palette = 'plasma')\n",
    "\n",
    "plt.title('Top 25 TF-IDF Terms')\n",
    "plt.xlabel('Mean TF-IDF')\n",
    "plt.ylabel('Term')\n",
    "plt.show()"
   ]
  },
  {
   "cell_type": "markdown",
   "metadata": {},
   "source": [
    "This function and below table gives a top term by category. As one can see, it seems the our TF-IDF did its job correctly because the terms in each category look to match the actual subject matter. For example, one would expect the top terms in sport to be win, team, match, game, england, etc. "
   ]
  },
  {
   "cell_type": "code",
   "execution_count": 14,
   "metadata": {},
   "outputs": [
    {
     "data": {
      "text/html": [
       "<div>\n",
       "<style scoped>\n",
       "    .dataframe tbody tr th:only-of-type {\n",
       "        vertical-align: middle;\n",
       "    }\n",
       "\n",
       "    .dataframe tbody tr th {\n",
       "        vertical-align: top;\n",
       "    }\n",
       "\n",
       "    .dataframe thead th {\n",
       "        text-align: right;\n",
       "    }\n",
       "</style>\n",
       "<table border=\"1\" class=\"dataframe\">\n",
       "  <thead>\n",
       "    <tr style=\"text-align: right;\">\n",
       "      <th></th>\n",
       "      <th>business</th>\n",
       "      <th>entertainment</th>\n",
       "      <th>politics</th>\n",
       "      <th>sport</th>\n",
       "      <th>tech</th>\n",
       "    </tr>\n",
       "  </thead>\n",
       "  <tbody>\n",
       "    <tr>\n",
       "      <th>0</th>\n",
       "      <td>bn</td>\n",
       "      <td>film</td>\n",
       "      <td>mr</td>\n",
       "      <td>england</td>\n",
       "      <td>people</td>\n",
       "    </tr>\n",
       "    <tr>\n",
       "      <th>1</th>\n",
       "      <td>said</td>\n",
       "      <td>best</td>\n",
       "      <td>labour</td>\n",
       "      <td>game</td>\n",
       "      <td>mobile</td>\n",
       "    </tr>\n",
       "    <tr>\n",
       "      <th>2</th>\n",
       "      <td>growth</td>\n",
       "      <td>music</td>\n",
       "      <td>said</td>\n",
       "      <td>win</td>\n",
       "      <td>said</td>\n",
       "    </tr>\n",
       "    <tr>\n",
       "      <th>3</th>\n",
       "      <td>economy</td>\n",
       "      <td>said</td>\n",
       "      <td>election</td>\n",
       "      <td>said</td>\n",
       "      <td>software</td>\n",
       "    </tr>\n",
       "    <tr>\n",
       "      <th>4</th>\n",
       "      <td>market</td>\n",
       "      <td>band</td>\n",
       "      <td>blair</td>\n",
       "      <td>cup</td>\n",
       "      <td>users</td>\n",
       "    </tr>\n",
       "    <tr>\n",
       "      <th>5</th>\n",
       "      <td>bank</td>\n",
       "      <td>awards</td>\n",
       "      <td>party</td>\n",
       "      <td>match</td>\n",
       "      <td>technology</td>\n",
       "    </tr>\n",
       "    <tr>\n",
       "      <th>6</th>\n",
       "      <td>firm</td>\n",
       "      <td>actor</td>\n",
       "      <td>government</td>\n",
       "      <td>team</td>\n",
       "      <td>microsoft</td>\n",
       "    </tr>\n",
       "    <tr>\n",
       "      <th>7</th>\n",
       "      <td>year</td>\n",
       "      <td>award</td>\n",
       "      <td>brown</td>\n",
       "      <td>chelsea</td>\n",
       "      <td>phone</td>\n",
       "    </tr>\n",
       "    <tr>\n",
       "      <th>8</th>\n",
       "      <td>company</td>\n",
       "      <td>star</td>\n",
       "      <td>minister</td>\n",
       "      <td>players</td>\n",
       "      <td>net</td>\n",
       "    </tr>\n",
       "    <tr>\n",
       "      <th>9</th>\n",
       "      <td>oil</td>\n",
       "      <td>album</td>\n",
       "      <td>mr blair</td>\n",
       "      <td>season</td>\n",
       "      <td>digital</td>\n",
       "    </tr>\n",
       "  </tbody>\n",
       "</table>\n",
       "</div>"
      ],
      "text/plain": [
       "  business entertainment    politics    sport        tech\n",
       "0       bn          film          mr  england      people\n",
       "1     said          best      labour     game      mobile\n",
       "2   growth         music        said      win        said\n",
       "3  economy          said    election     said    software\n",
       "4   market          band       blair      cup       users\n",
       "5     bank        awards       party    match  technology\n",
       "6     firm         actor  government     team   microsoft\n",
       "7     year         award       brown  chelsea       phone\n",
       "8  company          star    minister  players         net\n",
       "9      oil         album    mr blair   season     digital"
      ]
     },
     "execution_count": 14,
     "metadata": {},
     "output_type": "execute_result"
    }
   ],
   "source": [
    "def terms_by_label(tf_idf_matrix, labels, feature_names, top = 10):\n",
    "    labels = np.asarray(labels)\n",
    "    feature_names = np.asarray(feature_names)\n",
    "    \n",
    "    out_ = {}\n",
    "    for label in  np.unique(labels):\n",
    "        mask = (labels == label)\n",
    "\n",
    "        mean_s = np.asarray(tf_idf_matrix[mask, :].mean(axis = 0)).ravel()\n",
    "        top_i = mean_s.argsort()[-top:][::-1]\n",
    "        out_[str(label)] = feature_names[top_i]\n",
    "    return pd.DataFrame(out_)\n",
    "\n",
    "df_vis3  = terms_by_label(train_tf_idf, train_df['category'].to_numpy(), feature_names, top = 10)\n",
    "df_vis3\n",
    "            "
   ]
  },
  {
   "cell_type": "markdown",
   "metadata": {},
   "source": [
    "Now creating a heatmap for the top 30 TF-IDF terms to show how they present themselves in each category"
   ]
  },
  {
   "cell_type": "code",
   "execution_count": 15,
   "metadata": {},
   "outputs": [
    {
     "data": {
      "image/png": "[encoded data removed]",
      "text/plain": [
       "<Figure size 1008x432 with 2 Axes>"
      ]
     },
     "metadata": {
      "needs_background": "light"
     },
     "output_type": "display_data"
    }
   ],
   "source": [
    "cats = train_df['category'].unique()\n",
    "means = []\n",
    "\n",
    "for cat in cats:\n",
    "    mask = (train_df['category'] == cat).to_numpy()\n",
    "    cat_mean = np.asarray(train_tf_idf[mask, :].mean(axis= 0)).ravel()\n",
    "    means.append(cat_mean)\n",
    "\n",
    "means = np.asarray(means)\n",
    "means = normalize(means , axis = 1)\n",
    "\n",
    "\n",
    "large_mean = np.asarray(train_tf_idf.mean(axis = 0)).ravel()\n",
    "top_i = large_mean.argsort()[-30:][::-1]\n",
    "top30 = np.array(feature_names)[top_i]\n",
    "\n",
    "topmeans = means[:, top_i]\n",
    "\n",
    "\n",
    "plt.figure(figsize = (14, 6))\n",
    "sns.heatmap(topmeans, cmap = 'Blues', yticklabels = cats, xticklabels= top30)\n",
    "plt.title('Top 30 TF-IDF Terms by Label Category')\n",
    "plt.xlabel('Term')\n",
    "plt.ylabel('Category')\n",
    "\n",
    "plt.xticks(rotation = 60, ha = 'right')\n",
    "\n",
    "\n",
    "plt.show()"
   ]
  },
  {
   "cell_type": "markdown",
   "metadata": {},
   "source": [
    "# Step 2: Building and Training Models"
   ]
  },
  {
   "cell_type": "markdown",
   "metadata": {},
   "source": [
    "## 1) Conceptual Question"
   ]
  },
  {
   "cell_type": "markdown",
   "metadata": {},
   "source": [
    "When you train the unsupervised model for matrix factorization, should you include texts (word features) from the test dataset or not as the input matrix? Why or why not?\n",
    "\n",
    "Answer: No, one should not include text from the test dataset in the input matrix when training an unsuprervised model for matrix factorization. This would be considered fitting on the test set and is not the correct approach. It is best to do this for the train set only and not the test set being that it presents data-leakage. "
   ]
  },
  {
   "cell_type": "markdown",
   "metadata": {},
   "source": [
    "## 2) Building a a model using the matrix factorization method and predicting the train and test data labels"
   ]
  },
  {
   "cell_type": "markdown",
   "metadata": {},
   "source": [
    "In terms of hyperparamters to chose for building this model, I chose the number of topics. Because we already have topic lables, I considered this to be a strong way to test my model accuracy- comparing the models generated labels to those that were already given."
   ]
  },
  {
   "cell_type": "markdown",
   "metadata": {},
   "source": [
    "Creating NMF Model below"
   ]
  },
  {
   "cell_type": "code",
   "execution_count": 16,
   "metadata": {},
   "outputs": [],
   "source": [
    "n_topics = 5\n",
    "\n",
    "nmf = NMF(n_components = n_topics, random_state = 42, max_iter = 300)\n",
    "W_train = nmf.fit_transform(train_tf_idf)\n",
    "H = nmf.components_\n",
    "W_test = nmf.transform(test_tf_idf)"
   ]
  },
  {
   "cell_type": "markdown",
   "metadata": {},
   "source": [
    "Printing out the top 10 words in each topic to make sure the groupings make logical sense"
   ]
  },
  {
   "cell_type": "code",
   "execution_count": 17,
   "metadata": {},
   "outputs": [
    {
     "name": "stdout",
     "output_type": "stream",
     "text": [
      "Topic 0: england, game, win, wales, ireland, said, cup, team, play, france\n",
      "Topic 1: mr, labour, blair, election, brown, party, mr blair, said, mr brown, government\n",
      "Topic 2: mobile, people, music, said, phone, digital, technology, phones, users, broadband\n",
      "Topic 3: film, best, awards, award, actor, oscar, actress, films, festival, won\n",
      "Topic 4: bn, growth, said, economy, economic, year, sales, bank, oil, market\n"
     ]
    }
   ],
   "source": [
    "feature_n = tf_idf.get_feature_names()\n",
    "\n",
    "n_top_words = 10\n",
    "for i, topic in enumerate(H):\n",
    "    top_t = [feature_names[j] for j in topic.argsort()[:-n_top_words-1:-1]]\n",
    "    print(f\"Topic {i}: {', '.join(top_t)}\")"
   ]
  },
  {
   "cell_type": "markdown",
   "metadata": {},
   "source": [
    "Mapping the topics created by my model to the actual topics already labeled in the data to compare accuracy later on"
   ]
  },
  {
   "cell_type": "code",
   "execution_count": 18,
   "metadata": {},
   "outputs": [],
   "source": [
    "topic_to_label= {0: 'sport', 1: 'politics', 2: 'tech', 3: 'entertainment', 4: 'business'}\n",
    "\n",
    "train_df['topic'] = W_train.argmax(axis = 1)\n",
    "train_df['topic'] = train_df['topic'].map(topic_to_label)"
   ]
  },
  {
   "cell_type": "markdown",
   "metadata": {},
   "source": [
    "## 3) Measuring the performances on predictions from both train and test datasets."
   ]
  },
  {
   "cell_type": "markdown",
   "metadata": {},
   "source": [
    "In this code block I am showing the label accuracy by comparing it to the actual labels in the dataset. After this, I created a confusion matrix to show how my NMF perfomed in grouping the articles into category buckets. "
   ]
  },
  {
   "cell_type": "code",
   "execution_count": 19,
   "metadata": {},
   "outputs": [
    {
     "name": "stdout",
     "output_type": "stream",
     "text": [
      "NMF Topic Accuracy: 0.9234899328859061\n"
     ]
    },
    {
     "data": {
      "image/png": "[encoded data removed]",
      "text/plain": [
       "<Figure size 432x288 with 2 Axes>"
      ]
     },
     "metadata": {
      "needs_background": "light"
     },
     "output_type": "display_data"
    }
   ],
   "source": [
    "encoder = LabelEncoder()\n",
    "encoder.fit(train_df['category'])\n",
    "\n",
    "y_true = encoder.transform(train_df['category'])\n",
    "y_pred = encoder.transform(train_df['topic'])\n",
    "\n",
    "acc = accuracy_score(y_true, y_pred)\n",
    "print(f\"NMF Topic Accuracy: {acc}\")\n",
    "\n",
    "cm = confusion_matrix(y_true, y_pred, labels = range(len(encoder.classes_)))\n",
    "plt.figure()\n",
    "sns.heatmap(cm, annot = True, fmt = 'd', xticklabels = encoder.classes_, yticklabels = encoder.classes_, \n",
    "            cmap = 'Blues')\n",
    "plt.xlabel('Predicted Category')\n",
    "plt.ylabel('Actual Category')\n",
    "plt.title('NMF Category vs Actual Cateogry Confusion Matrix')\n",
    "\n",
    "plt.show()"
   ]
  },
  {
   "cell_type": "markdown",
   "metadata": {},
   "source": [
    "## 4) Changing the hyperparameter and recording the results (i.e. hyperparamter tuning)"
   ]
  },
  {
   "cell_type": "markdown",
   "metadata": {},
   "source": [
    "For hyperparameter tuning, I decided to use count of componenets (topics) as the hyperparamter I would experiment with. As one can see by the table below, the accuracy peaks at 5 topics. After this, it dips down slightly and then riseds again at 10 topics. This 10 topic count accuracy score is higher than the 5 topic score, but this is likely also due to overfitting. Because of this, I would still chose 5 topics as my desired number to create the highest accuracy without overfitting"
   ]
  },
  {
   "cell_type": "code",
   "execution_count": 20,
   "metadata": {},
   "outputs": [
    {
     "data": {
      "text/html": [
       "<div>\n",
       "<style scoped>\n",
       "    .dataframe tbody tr th:only-of-type {\n",
       "        vertical-align: middle;\n",
       "    }\n",
       "\n",
       "    .dataframe tbody tr th {\n",
       "        vertical-align: top;\n",
       "    }\n",
       "\n",
       "    .dataframe thead th {\n",
       "        text-align: right;\n",
       "    }\n",
       "</style>\n",
       "<table border=\"1\" class=\"dataframe\">\n",
       "  <thead>\n",
       "    <tr style=\"text-align: right;\">\n",
       "      <th></th>\n",
       "      <th>n_components</th>\n",
       "      <th>train_accuracy</th>\n",
       "    </tr>\n",
       "  </thead>\n",
       "  <tbody>\n",
       "    <tr>\n",
       "      <th>0</th>\n",
       "      <td>1</td>\n",
       "      <td>0.232215</td>\n",
       "    </tr>\n",
       "    <tr>\n",
       "      <th>1</th>\n",
       "      <td>2</td>\n",
       "      <td>0.402685</td>\n",
       "    </tr>\n",
       "    <tr>\n",
       "      <th>2</th>\n",
       "      <td>3</td>\n",
       "      <td>0.604698</td>\n",
       "    </tr>\n",
       "    <tr>\n",
       "      <th>3</th>\n",
       "      <td>4</td>\n",
       "      <td>0.749664</td>\n",
       "    </tr>\n",
       "    <tr>\n",
       "      <th>4</th>\n",
       "      <td>5</td>\n",
       "      <td>0.923490</td>\n",
       "    </tr>\n",
       "    <tr>\n",
       "      <th>5</th>\n",
       "      <td>6</td>\n",
       "      <td>0.902685</td>\n",
       "    </tr>\n",
       "    <tr>\n",
       "      <th>6</th>\n",
       "      <td>7</td>\n",
       "      <td>0.877181</td>\n",
       "    </tr>\n",
       "    <tr>\n",
       "      <th>7</th>\n",
       "      <td>9</td>\n",
       "      <td>0.907383</td>\n",
       "    </tr>\n",
       "    <tr>\n",
       "      <th>8</th>\n",
       "      <td>10</td>\n",
       "      <td>0.934899</td>\n",
       "    </tr>\n",
       "  </tbody>\n",
       "</table>\n",
       "</div>"
      ],
      "text/plain": [
       "   n_components  train_accuracy\n",
       "0             1        0.232215\n",
       "1             2        0.402685\n",
       "2             3        0.604698\n",
       "3             4        0.749664\n",
       "4             5        0.923490\n",
       "5             6        0.902685\n",
       "6             7        0.877181\n",
       "7             9        0.907383\n",
       "8            10        0.934899"
      ]
     },
     "metadata": {},
     "output_type": "display_data"
    },
    {
     "data": {
      "image/png": "[encoded data removed]",
      "text/plain": [
       "<Figure size 432x288 with 1 Axes>"
      ]
     },
     "metadata": {
      "needs_background": "light"
     },
     "output_type": "display_data"
    }
   ],
   "source": [
    "result = []\n",
    "comp = [1, 2, 3, 4, 5, 6, 7, 9, 10]\n",
    "\n",
    "for k in comp:\n",
    "    nmf2 = NMF(n_components = k, random_state = 42, max_iter = 300)\n",
    "    W_train = nmf2.fit_transform(train_tf_idf)\n",
    "    topics = W_train.argmax(axis = 1)\n",
    "    \n",
    "    nm_df = pd.DataFrame({'topic': topics, 'label': train_df['category']})\n",
    "    maptotop = nm_df.groupby('topic')['label'].agg(lambda x: x.value_counts().idxmax()).to_dict()\n",
    "    mapped = nm_df['topic'].map(maptotop)\n",
    "    \n",
    "    acc = accuracy_score(train_df['category'], mapped)\n",
    "    result.append((k, acc))\n",
    "    \n",
    "final_df = pd.DataFrame(result, columns = ['n_components', 'train_accuracy'])\n",
    "\n",
    "display(final_df)\n",
    "\n",
    "plt.figure()\n",
    "sns.lineplot(x = 'n_components', y = 'train_accuracy', data = final_df, marker = 'o')\n",
    "plt.title('NMF Acc vs Topic Count')\n",
    "plt.xlabel('Number of Topics')\n",
    "plt.ylabel('NMF Accuracy')\n",
    "plt.show()"
   ]
  },
  {
   "cell_type": "markdown",
   "metadata": {},
   "source": [
    "## 5) Improving the Model Performance"
   ]
  },
  {
   "cell_type": "markdown",
   "metadata": {},
   "source": [
    "To improve model performance, I decided to alter the number of features in my TF-IDF vectorizer. Originally I started at 6000, so I decided to change to 5000 to increase performance. This increased accuracy slightly from 0.923 to 0.924"
   ]
  },
  {
   "cell_type": "code",
   "execution_count": 21,
   "metadata": {},
   "outputs": [
    {
     "name": "stdout",
     "output_type": "stream",
     "text": [
      "Improved Accuracy with new TF-IDF:  0.9241610738255034\n"
     ]
    }
   ],
   "source": [
    "tfidf_large = TfidfVectorizer(max_features = 5000, ngram_range = (1,2), stop_words = 'english',\n",
    "                              min_df = 2)\n",
    "\n",
    "train_tfidf_large = tfidf_large.fit_transform(train_df['proc_text'])\n",
    "#test_tfidf_large = tf_idf.transform(test_df['proc_text'])\n",
    "\n",
    "n_topics = 5\n",
    "\n",
    "nmf_large = NMF(n_components = n_topics, random_state = 42, max_iter = 300)\n",
    "W_large = nmf_large.fit_transform(train_tfidf_large)\n",
    "topic_large = W_large.argmax(axis = 1)\n",
    "\n",
    "nmlarge_df = pd.DataFrame({'topic': topic_large, 'label': train_df['category']})\n",
    "maplarge = nmlarge_df.groupby('topic')['label'].agg(lambda x: x.value_counts().idxmax()).to_dict()\n",
    "mappedlarge = nmlarge_df['topic'].map(maplarge)\n",
    "\n",
    "acc_large = accuracy_score(train_df['category'], mappedlarge)\n",
    "print('Improved Accuracy with new TF-IDF: ' , acc_large)"
   ]
  },
  {
   "cell_type": "markdown",
   "metadata": {},
   "source": [
    "# Step 3: Comparing with Supervised Learning"
   ]
  },
  {
   "cell_type": "markdown",
   "metadata": {},
   "source": [
    "Comparing this unsupervised approach with supervised learning below using Logistic Regression. I am splitting the train set provided 80/20. It should be noted, I am only using the train dataset provided by the kaggle project and then splitting it 80/20 into train and test, because the test set provided by kaggle does not have labels. \n",
    "\n",
    "As expected, the supervised learning approach had a higher accuracy. As was already mentioned in the assignment description, supervised learning does best when labels are already provided, and since this data had labels, it performed quite well. As one can see, overfitting is quite small here. We know this because there is a small difference between test-train results. "
   ]
  },
  {
   "cell_type": "code",
   "execution_count": 22,
   "metadata": {},
   "outputs": [
    {
     "name": "stdout",
     "output_type": "stream",
     "text": [
      "Train Accuracy for logistic regression is 0.9966442953020134\n",
      "Test Accuracy for logistic regression is 0.9731543624161074\n",
      "               precision    recall  f1-score   support\n",
      "\n",
      "     business       0.97      0.97      0.97        67\n",
      "entertainment       0.96      1.00      0.98        55\n",
      "     politics       0.98      0.96      0.97        55\n",
      "        sport       0.99      1.00      0.99        69\n",
      "         tech       0.96      0.92      0.94        52\n",
      "\n",
      "     accuracy                           0.97       298\n",
      "    macro avg       0.97      0.97      0.97       298\n",
      " weighted avg       0.97      0.97      0.97       298\n",
      "\n"
     ]
    },
    {
     "data": {
      "image/png": "[encoded data removed]",
      "text/plain": [
       "<Figure size 432x288 with 2 Axes>"
      ]
     },
     "metadata": {
      "needs_background": "light"
     },
     "output_type": "display_data"
    }
   ],
   "source": [
    "X = train_tf_idf\n",
    "y = train_df['category'].to_numpy()\n",
    "\n",
    "X_train, X_test, y_train, y_test = train_test_split(X, y, test_size = 0.2, stratify = y, random_state = 42)\n",
    "\n",
    "logreg = LogisticRegression(max_iter = 500, random_state = 42)\n",
    "logreg.fit(X_train, y_train)\n",
    "train_pred = logreg.predict(X_train)\n",
    "test_pred = logreg.predict(X_test)\n",
    "\n",
    "print('Train Accuracy for logistic regression is', accuracy_score(y_train, train_pred))\n",
    "print('Test Accuracy for logistic regression is', accuracy_score(y_test, test_pred))\n",
    "print(classification_report(y_test, test_pred))\n",
    "\n",
    "plt.figure()\n",
    "sns.heatmap(confusion_matrix(y_test, test_pred), annot = True, cmap = 'Blues', fmt = 'd')\n",
    "plt.title('LogReg Confusion Matrix')\n",
    "plt.xlabel('Predicted')\n",
    "plt.ylabel('Actual')\n",
    "plt.show()"
   ]
  },
  {
   "cell_type": "markdown",
   "metadata": {},
   "source": [
    "Finally, attmepting different sizes of train sets (10%, 20%, 50%, 80%) to see what yields the best perfromance. In this case, it seems 80% would yield the highest test accuracy, but marginally so compared to the 50% size train set. "
   ]
  },
  {
   "cell_type": "code",
   "execution_count": 23,
   "metadata": {},
   "outputs": [
    {
     "data": {
      "text/html": [
       "<div>\n",
       "<style scoped>\n",
       "    .dataframe tbody tr th:only-of-type {\n",
       "        vertical-align: middle;\n",
       "    }\n",
       "\n",
       "    .dataframe tbody tr th {\n",
       "        vertical-align: top;\n",
       "    }\n",
       "\n",
       "    .dataframe thead th {\n",
       "        text-align: right;\n",
       "    }\n",
       "</style>\n",
       "<table border=\"1\" class=\"dataframe\">\n",
       "  <thead>\n",
       "    <tr style=\"text-align: right;\">\n",
       "      <th></th>\n",
       "      <th>train_fraction</th>\n",
       "      <th>test_accuracy</th>\n",
       "    </tr>\n",
       "  </thead>\n",
       "  <tbody>\n",
       "    <tr>\n",
       "      <th>0</th>\n",
       "      <td>0.1</td>\n",
       "      <td>0.882550</td>\n",
       "    </tr>\n",
       "    <tr>\n",
       "      <th>1</th>\n",
       "      <td>0.2</td>\n",
       "      <td>0.922819</td>\n",
       "    </tr>\n",
       "    <tr>\n",
       "      <th>2</th>\n",
       "      <td>0.5</td>\n",
       "      <td>0.956376</td>\n",
       "    </tr>\n",
       "    <tr>\n",
       "      <th>3</th>\n",
       "      <td>0.8</td>\n",
       "      <td>0.959732</td>\n",
       "    </tr>\n",
       "  </tbody>\n",
       "</table>\n",
       "</div>"
      ],
      "text/plain": [
       "   train_fraction  test_accuracy\n",
       "0             0.1       0.882550\n",
       "1             0.2       0.922819\n",
       "2             0.5       0.956376\n",
       "3             0.8       0.959732"
      ]
     },
     "metadata": {},
     "output_type": "display_data"
    }
   ],
   "source": [
    "r = []\n",
    "\n",
    "for frac in [0.1, 0.2, 0.5, 0.8]:\n",
    "    splt = StratifiedShuffleSplit(n_splits = 1, train_size = frac, random_state = 42)\n",
    "    (sub_idx, _), = splt.split(X_train, y_train)\n",
    "    logreg2 = LogisticRegression(max_iter = 500, random_state = 42)\n",
    "    logreg2.fit(X_train[sub_idx], y_train[sub_idx])\n",
    "    r.append((frac, logreg2.score(X_test, y_test)))\n",
    "    \n",
    "logreg2df = pd.DataFrame(r, columns = ['train_fraction', 'test_accuracy'])\n",
    "display(logreg2df)"
   ]
  },
  {
   "cell_type": "markdown",
   "metadata": {},
   "source": [
    "References: \n",
    "\n",
    "1.scikit-learn Developers. (2024). Text feature extraction using TF-IDF. Retrieved from https://scikit-learn.org/stable/modules/feature_extraction.html#text-feature-extraction  \n",
    "2.Wikipedia Contributors. (2025). TF-IDF. In Wikipedia, The Free Encyclopedia. Retrieved from https://en.wikipedia.org/wiki/Tf%E2%80%93idfv  \n",
    "3.OpenAI. (2025). ChatGPT (version GPT-5) [Large language model]. OpenAI. (Used for error trace debugging and function usage examples.)  \n",
    "4.Google DeepMind. (2025). Gemini [Large language model]. Google DeepMind. (Used for error trace debugging and function usage examples.)  \n",
    "5.Analytics Vidhya. (2021, June 16). Topic modelling using NMF | Guide to master NLP (Part 14). Analytics Vidhya. Retrieved October 27, 2025, from https://www.analyticsvidhya.com/blog/2021/06/part-15-step-by-step-guide-to-master-nlp-topic-modelling-using-nmf/\n"
   ]
  }
 ],
 "metadata": {
  "kernelspec": {
   "display_name": "Python 3",
   "language": "python",
   "name": "python3"
  },
  "language_info": {
   "codemirror_mode": {
    "name": "ipython",
    "version": 3
   },
   "file_extension": ".py",
   "mimetype": "text/x-python",
   "name": "python",
   "nbconvert_exporter": "python",
   "pygments_lexer": "ipython3",
   "version": "3.7.6"
  }
 },
 "nbformat": 4,
 "nbformat_minor": 4
}
