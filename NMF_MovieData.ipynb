{
 "cells": [
  {
   "cell_type": "markdown",
   "metadata": {},
   "source": [
    "# Using NMF on Movie Rating Data"
   ]
  },
  {
   "cell_type": "markdown",
   "metadata": {},
   "source": [
    "Importing all necesary libraries"
   ]
  },
  {
   "cell_type": "code",
   "execution_count": 17,
   "metadata": {},
   "outputs": [],
   "source": [
    "import math\n",
    "import numpy as np\n",
    "import pandas as pd\n",
    "import matplotlib.pylab as plt\n",
    "import seaborn as sns\n",
    "import re\n",
    "import unicodedata\n",
    "from sklearn.feature_extraction.text import TfidfVectorizer\n",
    "from sklearn.preprocessing import normalize\n",
    "from sklearn.decomposition import NMF\n",
    "from sklearn.metrics import accuracy_score, confusion_matrix, classification_report, mean_squared_error\n",
    "from sklearn.preprocessing import LabelEncoder\n",
    "from sklearn.model_selection import train_test_split, StratifiedShuffleSplit\n",
    "from sklearn.linear_model import LogisticRegression"
   ]
  },
  {
   "cell_type": "markdown",
   "metadata": {},
   "source": [
    "Reading in data and doing a brief cleaning procedure"
   ]
  },
  {
   "cell_type": "code",
   "execution_count": 18,
   "metadata": {},
   "outputs": [],
   "source": [
    "MV_users = pd.read_csv('data/users.csv')\n",
    "MV_movies = pd.read_csv('data/movies.csv')\n",
    "train = pd.read_csv('data/train.csv')\n",
    "test = pd.read_csv('data/test.csv')"
   ]
  },
  {
   "cell_type": "code",
   "execution_count": 22,
   "metadata": {},
   "outputs": [],
   "source": [
    "for df in [MV_users, train, test]:\n",
    "    df['uID'] = df['uID'].astype(str).str.strip()\n",
    "for df in [MV_movies, train, test]:\n",
    "    df['mID'] = df['mID'].astype(str).str.strip()"
   ]
  },
  {
   "cell_type": "code",
   "execution_count": 23,
   "metadata": {},
   "outputs": [],
   "source": [
    "u_id = list(MV_users['uID'])\n",
    "m_id = list(MV_movies['mID'])\n",
    "\n",
    "utoidx = dict(zip(u_id, range(len(u_id))))\n",
    "mtoidx = dict(zip(m_id, range(len(m_id))))\n",
    "\n",
    "n_user, n_mov = len(u_id), len(m_id)\n",
    "R = np.zeros((n_user, n_mov))\n",
    "for _, row in train.iterrows():\n",
    "    R[utoidx[row.uID], mtoidx[row.mID]] = row.rating\n"
   ]
  },
  {
   "cell_type": "markdown",
   "metadata": {},
   "source": [
    "Now implementing the NMF on the data"
   ]
  },
  {
   "cell_type": "code",
   "execution_count": 25,
   "metadata": {},
   "outputs": [],
   "source": [
    "nmf = NMF(n_components = 20, init = 'nndsvda', random_state = 42, max_iter = 300)\n",
    "W = nmf.fit_transform(R)\n",
    "H = nmf.components_\n",
    "pred_ = np.dot(W,H)"
   ]
  },
  {
   "cell_type": "code",
   "execution_count": 26,
   "metadata": {},
   "outputs": [
    {
     "name": "stdout",
     "output_type": "stream",
     "text": [
      "NMF RSME is 2.537119135178176\n"
     ]
    }
   ],
   "source": [
    "tpred = []\n",
    "\n",
    "for _, row in test.iterrows():\n",
    "    uid, mid, = row.uID, row.mID\n",
    "    u_idx, m_idx = utoidx[uid], mtoidx[mid]\n",
    "    pred = np.clip(pred_[u_idx, m_idx], 1, 5)\n",
    "    tpred.append(pred)\n",
    "\n",
    "rsme = np.sqrt(mean_squared_error(test.rating, tpred))\n",
    "print('NMF RSME is', rsme)"
   ]
  },
  {
   "cell_type": "markdown",
   "metadata": {},
   "source": [
    "Discussion for Part 2: Discuss the results and why sklearn's non-negative matrix facorization library did not work well compared to simple baseline or similarity-based methods we’ve done in Module 3. Can you suggest a way(s) to fix it? \n",
    "\n",
    "Sklearn's non-negative matrix factorization did not work well compared to the simple baseline methods we used in module 3 because it is simply not meant for recomender systems. First, it doesnt handle missing entries well. Missing data is treated as 0, rather than as not pertinent. Second, NMF does not handle over/under prediction well for reccomender systems. Finally, this method is actually completely inefficient for reccomender systems compared to what we used in module 3. \n",
    "\n",
    "A way we could improve sklearns NMF library for this dataset would be to use data that is normalized for only known user ratings. Masking the data could potentially help improve the overal RSME and result in better modelling. \n",
    "\n"
   ]
  },
  {
   "cell_type": "code",
   "execution_count": null,
   "metadata": {},
   "outputs": [],
   "source": []
  }
 ],
 "metadata": {
  "kernelspec": {
   "display_name": "Python 3",
   "language": "python",
   "name": "python3"
  },
  "language_info": {
   "codemirror_mode": {
    "name": "ipython",
    "version": 3
   },
   "file_extension": ".py",
   "mimetype": "text/x-python",
   "name": "python",
   "nbconvert_exporter": "python",
   "pygments_lexer": "ipython3",
   "version": "3.7.6"
  }
 },
 "nbformat": 4,
 "nbformat_minor": 4
}
